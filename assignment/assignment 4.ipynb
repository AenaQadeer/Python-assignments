{
 "cells": [
  {
   "cell_type": "code",
   "execution_count": 1,
   "id": "f99be814",
   "metadata": {},
   "outputs": [
    {
     "name": "stdout",
     "output_type": "stream",
     "text": [
      "Select which operation you want to perform : \n",
      "1) Addition  2)Subtraction 3)Multiplication 4)Division 5)Power\n",
      "Enter choice(1/2/3/4/5): 1\n",
      "Enter first number: 5\n",
      "Enter second number: 6\n",
      "5.0 + 6.0 = 11.0\n",
      "Want to perform next calculation? (yes/no): yes\n",
      "Enter choice(1/2/3/4/5): 2\n",
      "Enter first number: 4\n",
      "Enter second number: 2\n",
      "4.0 - 2.0 = 2.0\n",
      "Want to perform next calculation? (yes/no): yes\n",
      "Enter choice(1/2/3/4/5): 3\n",
      "Enter first number: 5\n",
      "Enter second number: 5\n",
      "5.0 * 5.0 = 25.0\n",
      "Want to perform next calculation? (yes/no): yes\n",
      "Enter choice(1/2/3/4/5): 4\n",
      "Enter first number: 8\n",
      "Enter second number: 4\n",
      "8.0 / 4.0 = 2.0\n",
      "Want to perform next calculation? (yes/no): yes\n",
      "Enter choice(1/2/3/4/5): 5\n",
      "Enter first number: 2\n",
      "Enter second number: 3\n",
      "2.0 ^ 3.0 = 8.0\n",
      "Want to perform next calculation? (yes/no): no\n"
     ]
    }
   ],
   "source": [
    "\"\"\" Q1) Make a calculator using Python with addition , subtraction ,\n",
    "multiplication ,division and power.\"\"\"\n",
    "\n",
    "def add(a, b):\n",
    "    return a + b\n",
    "\n",
    "def subtract(a, b):\n",
    "    return a - b\n",
    "\n",
    "def multiply(a, b):\n",
    "    return a * b\n",
    "\n",
    "def divide(a, b):\n",
    "    return a / b\n",
    "\n",
    "def power(a,b):\n",
    "    return pow(a,b)\n",
    "\n",
    "print(\"Select which operation you want to perform : \")\n",
    "print(\"1) Addition  2)Subtraction 3)Multiplication 4)Division 5)Power\")\n",
    "\n",
    "while True:\n",
    "    \n",
    "    choice = int(input(\"Enter choice(1/2/3/4/5): \"))\n",
    "    \n",
    "    if choice in (1, 2, 3, 4, 5):\n",
    "        num1 = float(input(\"Enter first number: \"))\n",
    "        num2 = float(input(\"Enter second number: \"))\n",
    "\n",
    "        if choice == 1:\n",
    "            print(num1, \"+\", num2, \"=\", add(num1, num2))\n",
    "\n",
    "        elif choice == 2:\n",
    "            print(num1, \"-\", num2, \"=\", subtract(num1, num2))\n",
    "\n",
    "        elif choice == 3:\n",
    "            print(num1, \"*\", num2, \"=\", multiply(num1, num2))\n",
    "\n",
    "        elif choice == 4:\n",
    "            print(num1, \"/\", num2, \"=\", divide(num1, num2))\n",
    "            \n",
    "        elif choice == 5:\n",
    "            print(num1, \"^\", num2, \"=\", power(num1, num2))\n",
    "        else:\n",
    "            print(\"Enter valid input\")\n",
    "        \n",
    "        \n",
    "        next_calculation = input(\"Want to perform next calculation? (yes/no): \")\n",
    "        if next_calculation == \"no\":\n",
    "          break\n",
    "    \n",
    "    else:\n",
    "        print(\"Invalid Input\")"
   ]
  },
  {
   "cell_type": "code",
   "execution_count": 9,
   "id": "1ebf7ef1",
   "metadata": {},
   "outputs": [
    {
     "name": "stdout",
     "output_type": "stream",
     "text": [
      "Numeric values in list : \n",
      "4\n",
      "5\n",
      "6\n",
      "0\n"
     ]
    }
   ],
   "source": [
    "\"\"\"Q2) Write a program to check if there is any numeric value in list using for\n",
    "loop.\"\"\"\n",
    "\n",
    "list_to_be_tested=['a','b','c',4, 5, 6,\"Aena\",\"Qadeer\",'9',0]\n",
    "print(\"Numeric values in list : \")\n",
    "for i in list_to_be_tested:\n",
    "    if type(i) == int:\n",
    "        print(i)\n",
    "    "
   ]
  },
  {
   "cell_type": "code",
   "execution_count": 14,
   "id": "045490ac",
   "metadata": {},
   "outputs": [
    {
     "name": "stdout",
     "output_type": "stream",
     "text": [
      "Dictionary values : \n",
      "{0: 1, 1: 2, 2: 3}\n",
      "Dictionary values after adding new value : \n",
      "{0: 1, 1: 2, 2: 3, 3: 4}\n"
     ]
    }
   ],
   "source": [
    "\"\"\"Q3) Write a Python script to add a key to a dictionary.\"\"\"\n",
    "print(\"Dictionary values : \")\n",
    "dictionary={0:1, 1:2, 2:3}\n",
    "print(dictionary)\n",
    "print(\"Dictionary values after adding new value : \")\n",
    "dictionary.update({3:4})\n",
    "print(dictionary)"
   ]
  },
  {
   "cell_type": "code",
   "execution_count": 5,
   "id": "64ecf88b",
   "metadata": {},
   "outputs": [
    {
     "name": "stdout",
     "output_type": "stream",
     "text": [
      "Dictionary values : \n",
      "{0: 1, 1: 2, 2: 3, 3: 4}\n",
      "Sum: \n",
      "10\n"
     ]
    }
   ],
   "source": [
    "\"\"\"Q4)Write a Python program to sum all the numeric items in a dictionary.\"\"\"\n",
    "sum=0\n",
    "\n",
    "dictionary={0:1, 1:2, 2:3, 3:4}\n",
    "print(\"Dictionary values : \")\n",
    "print(dictionary)\n",
    "print(\"Sum: \")\n",
    "for i in dictionary.values():\n",
    "    sum=sum+i\n",
    "print(sum)\n",
    "\n"
   ]
  },
  {
   "cell_type": "code",
   "execution_count": 8,
   "id": "18c4866d",
   "metadata": {},
   "outputs": [
    {
     "name": "stdout",
     "output_type": "stream",
     "text": [
      "Duplicate values:  [1, 4, 7, 7, 7]\n",
      "Unique Values:  [1, 2, 3, 4, 5, 6, 7]\n"
     ]
    }
   ],
   "source": [
    "\"\"\"Q5) Write a program to identify duplicate values from list.\"\"\"\n",
    "list1=[1,1,2,3,4,4,5,6,7,7,7,7]\n",
    "duplicateValues = []\n",
    "uniqueValues = []\n",
    "for i in list1:\n",
    "    if i in uniqueValues:\n",
    "        duplicateValues.append(i)\n",
    "    else:\n",
    "        uniqueValues.append(i)\n",
    "print(\"Duplicate values: \", duplicateValues)\n",
    "print(\"Unique Values: \", uniqueValues)\n",
    "\n",
    "\n",
    "       \n",
    "        \n"
   ]
  },
  {
   "cell_type": "code",
   "execution_count": 16,
   "id": "203bb678",
   "metadata": {},
   "outputs": [
    {
     "name": "stdout",
     "output_type": "stream",
     "text": [
      "Enter Key to check if exist in dictionary : 4\n",
      "This key is present in dictionary\n"
     ]
    }
   ],
   "source": [
    "\"\"\"Q6) Write a Python script to check if a given key already exists in a dictionary\"\"\"\n",
    "dictionary={0:1, 1:2, 2:3, 3:4, 4:5, 5:6, 6:7, 7:8}\n",
    "key=int(input(\"Enter Key to check if exist in dictionary : \"))\n",
    "\n",
    "def findingKey(x):\n",
    "    if x in dictionary:\n",
    "        print(\"This key is present in dictionary\")\n",
    "    else:\n",
    "        print(\"This key is not present in dictionary\")\n",
    "\n",
    "findingKey(key)    \n",
    "\n"
   ]
  },
  {
   "cell_type": "code",
   "execution_count": null,
   "id": "6ee5286b",
   "metadata": {},
   "outputs": [],
   "source": []
  },
  {
   "cell_type": "code",
   "execution_count": null,
   "id": "c4192d3c",
   "metadata": {},
   "outputs": [],
   "source": []
  }
 ],
 "metadata": {
  "kernelspec": {
   "display_name": "Python 3",
   "language": "python",
   "name": "python3"
  },
  "language_info": {
   "codemirror_mode": {
    "name": "ipython",
    "version": 3
   },
   "file_extension": ".py",
   "mimetype": "text/x-python",
   "name": "python",
   "nbconvert_exporter": "python",
   "pygments_lexer": "ipython3",
   "version": "3.8.8"
  }
 },
 "nbformat": 4,
 "nbformat_minor": 5
}
