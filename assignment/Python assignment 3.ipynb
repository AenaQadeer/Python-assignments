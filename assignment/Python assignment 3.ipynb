{
 "cells": [
  {
   "cell_type": "code",
   "execution_count": 1,
   "id": "77f33232",
   "metadata": {},
   "outputs": [
    {
     "name": "stdout",
     "output_type": "stream",
     "text": [
      "Twinkle, twinkle, little star, \n",
      "\tHow I wonder what you are! \n",
      "\t\tUp above the world so high, \n",
      "\t\tLike a diamond in the sky. \n",
      "Twinkle, twinkle, little star, \n",
      "\tHow I wonder what you are!\n"
     ]
    }
   ],
   "source": [
    "\"\"\"Q1) Write a Python program to print the following string in a specific format (see the\n",
    "output).\n",
    "\n",
    "Twinkle, twinkle, little star,\n",
    "How I wonder what you are!\n",
    "Up above the world so high,\n",
    "Like a diamond in the sky.\n",
    "\n",
    "Twinkle, twinkle, little star,\n",
    "How I wonder what you are\"\"\"\n",
    "\n",
    "print(\"Twinkle, twinkle, little star, \\n\\tHow I wonder what you are! \\n\\t\\tUp above the world so high, \\n\\t\\tLike a diamond in the sky. \\nTwinkle, twinkle, little star, \\n\\tHow I wonder what you are!\")"
   ]
  },
  {
   "cell_type": "code",
   "execution_count": 7,
   "id": "e0affb21",
   "metadata": {
    "scrolled": true
   },
   "outputs": [
    {
     "name": "stdout",
     "output_type": "stream",
     "text": [
      "Python Version :\n"
     ]
    },
    {
     "data": {
      "text/plain": [
       "'3.8.8 (default, Apr 13 2021, 15:08:03) [MSC v.1916 64 bit (AMD64)]'"
      ]
     },
     "execution_count": 7,
     "metadata": {},
     "output_type": "execute_result"
    }
   ],
   "source": [
    "\"\"\"Q2) Write a Python program to get the Python version you are using\"\"\"\n",
    "\n",
    "import sys\n",
    "print(\"Python Version :\")\n",
    "sys.version\n"
   ]
  },
  {
   "cell_type": "code",
   "execution_count": 8,
   "id": "79e25a62",
   "metadata": {},
   "outputs": [
    {
     "name": "stdout",
     "output_type": "stream",
     "text": [
      "Current date and time: \n",
      "22-10-21 21:43:27\n"
     ]
    }
   ],
   "source": [
    "\"\"\"Q3) Write a Python program to display the current date and time.\"\"\"\n",
    "\n",
    "import datetime\n",
    "now = datetime.datetime.now()\n",
    "print (\"Current date and time: \")\n",
    "print (now.strftime(\"%d-%m-%y %H:%M:%S\"))\n"
   ]
  },
  {
   "cell_type": "code",
   "execution_count": 14,
   "id": "1b7497b5",
   "metadata": {},
   "outputs": [
    {
     "name": "stdout",
     "output_type": "stream",
     "text": [
      "Enter Radius of Circle: 5\n",
      "Area of the Circle: 78.5\n"
     ]
    }
   ],
   "source": [
    "\"\"\"Q4) Write a Python program which accepts the radius of a circle from the user and compute\n",
    "the area.\"\"\"\n",
    "\n",
    "raduisOfcircle=float(input(\"Enter Radius of Circle: \"))\n",
    "Pi=3.14\n",
    "Area=Pi*raduisOfcircle*raduisOfcircle\n",
    "print(\"Area of the Circle:\", Area)\n"
   ]
  },
  {
   "cell_type": "code",
   "execution_count": 42,
   "id": "738d1132",
   "metadata": {},
   "outputs": [
    {
     "name": "stdout",
     "output_type": "stream",
     "text": [
      "Enter First Name:Aena\n",
      "Enter Last Name:Qadeer\n",
      "aneA reedaQ\n"
     ]
    }
   ],
   "source": [
    "\"\"\"Q5) Write a Python program which accepts the user's first and last name and print them in\n",
    "reverse order with a space between them.\"\"\"\n",
    "\n",
    "firstName = (input(\"Enter First Name:\")[::-1])\n",
    "lastName = (input(\"Enter Last Name:\")[::-1])\n",
    "print(firstName, lastName)\n"
   ]
  },
  {
   "cell_type": "code",
   "execution_count": 1,
   "id": "442d279f",
   "metadata": {},
   "outputs": [
    {
     "name": "stdout",
     "output_type": "stream",
     "text": [
      "Enter two values to perform addition\n",
      "\n",
      "Value 1 = 50\n",
      "\n",
      "Value 2 = 50\n",
      "Sum =  100.0\n"
     ]
    }
   ],
   "source": [
    "\"\"\"Q6) Write a python program which takes two inputs from user and print them addition\"\"\"\n",
    "\n",
    "print(\"Enter two values to perform addition\");\n",
    "value1=float(input(\"\\nValue 1 = \"))\n",
    "value2=float(input(\"\\nValue 2 = \"))\n",
    "sum=value1 + value2\n",
    "print(\"Sum = \", sum)\n"
   ]
  },
  {
   "cell_type": "code",
   "execution_count": 3,
   "id": "02d8cb9f",
   "metadata": {},
   "outputs": [
    {
     "name": "stdout",
     "output_type": "stream",
     "text": [
      "Enter value to check if its Odd or Even\n",
      "Enter your value: 100.70\n",
      "Odd\n",
      "Enter value to check if its Odd or Even\n",
      "Enter your value: 14\n",
      "Even\n"
     ]
    }
   ],
   "source": [
    "\"\"\"Q8) Write a program which take input from user and identify that the given number is even\n",
    "or odd?\"\"\"\n",
    "#To check float number is even or odd\n",
    "print(\"Enter value to check if its Odd or Even\")\n",
    "value=float(input(\"Enter your value: \"))\n",
    "remainder= (value * 10) % 2 \n",
    "if remainder == 0:\n",
    "    print(\"Even\")\n",
    "else:\n",
    "    print(\"Odd\")\n",
    "\n",
    "#To check integer number is even or odd\n",
    "print(\"Enter value to check if its Odd or Even\")\n",
    "value=int(input(\"Enter your value: \"))\n",
    "remainder= value % 2 \n",
    "if remainder == 0:\n",
    "    print(\"Even\")\n",
    "else:\n",
    "    print(\"Odd\")\n",
    "   \n"
   ]
  },
  {
   "cell_type": "code",
   "execution_count": 8,
   "id": "1dc5de42",
   "metadata": {},
   "outputs": [
    {
     "name": "stdout",
     "output_type": "stream",
     "text": [
      "\t\t\tEnter Subject's marks to calculate result\n",
      "Enter English Marks out of 100: 67\n",
      "Proceed towards next step....\n",
      "Enter Islamiyat Marks out of 100: 78\n",
      "Proceed towards next step....\n",
      "Enter Maths Marks out of 100: 99\n",
      "Proceed towards next step....\n",
      "Enter Physics Marks out of 100: 44\n",
      "Proceed towards next step....\n",
      "Enter Computer Marks out of 100: 22\n",
      "Calculating your result....\n",
      "310.0 / 600\n",
      "Percentage:\n",
      "51.66666666666667\n",
      "Grade:\n",
      "Grade B+\n"
     ]
    }
   ],
   "source": [
    "\"\"\"Q7) Write a program which takes 5 inputs from user for different subject’s marks, total it\n",
    "and generate mark sheet using grades ?\"\"\"\n",
    "print(\"\\t\\t\\tEnter Subject's marks to calculate result\")\n",
    "while True:\n",
    "  try:\n",
    "    English = float(input(\"Enter English Marks out of 100: \")) \n",
    "    if English <= 100 and English > 0:\n",
    "      print(\"Proceed towards next step....\")\n",
    "      break;\n",
    "    else:\n",
    "      print(\"Enter correct value...\")      \n",
    "  except Error:\n",
    "    print(\"Provide an integer/float value...\")\n",
    "    continue\n",
    "\n",
    "while True:\n",
    "  try:\n",
    "    Isl = float(input(\"Enter Islamiyat Marks out of 100: \")) \n",
    "    if Isl <= 100 and Isl > 0:\n",
    "      print(\"Proceed towards next step....\")\n",
    "      break;\n",
    "    else:\n",
    "      print(\"Enter correct value...\")      \n",
    "  except Error:\n",
    "    print(\"Provide an integer/float value...\")\n",
    "    continue\n",
    "\n",
    "while True:\n",
    "  try:\n",
    "    Maths = float(input(\"Enter Maths Marks out of 100: \")) \n",
    "    if Maths <= 100 and Maths > 0:\n",
    "      print(\"Proceed towards next step....\")\n",
    "      break;\n",
    "    else:\n",
    "      print(\"Enter correct value...\")      \n",
    "  except Error:\n",
    "    print(\"Provide an integer/float value...\")\n",
    "    continue\n",
    "while True:\n",
    "  try:\n",
    "    Physics = float(input(\"Enter Physics Marks out of 100: \")) \n",
    "    if Physics <= 100 and Physics > 0:\n",
    "      print(\"Proceed towards next step....\")\n",
    "      break;\n",
    "    else:\n",
    "      print(\"Enter correct value...\")      \n",
    "  except Error:\n",
    "    print(\"Provide an integer/float value...\")\n",
    "    continue\n",
    "while True:\n",
    "  try:\n",
    "    Computer = float(input(\"Enter Computer Marks out of 100: \")) \n",
    "    if Computer <= 100 and Computer > 0:\n",
    "      print(\"Calculating your result....\")\n",
    "      break;\n",
    "    else:\n",
    "      print(\"Enter correct value...\")      \n",
    "  except Error:\n",
    "    print(\"Provide an integer/float value...\")\n",
    "    continue\n",
    "\n",
    "\n",
    "TotalMarks=600;\n",
    "obtainedMarks=English+Isl+Maths+Physics+Computer\n",
    "Percentage=(obtainedMarks)/TotalMarks*100;\n",
    "print(obtainedMarks,\"/\",TotalMarks)\n",
    "print(\"Percentage:\"); print(Percentage);\n",
    "print(\"Grade:\")\n",
    "\n",
    "if Percentage <=100 and Percentage >80:\n",
    "    print(\"Grade A+\")\n",
    "elif Percentage <=80 and Percentage >70:\n",
    "    print(\"Grade A\")\n",
    "elif Percentage <=70 and Percentage >60:\n",
    "    print(\"Grade B\")\n",
    "elif Percentage <=60 and Percentage >50:\n",
    "    print(\"Grade B+\")\n",
    "elif Percentage <=50 and Percentage >40:\n",
    "    print(\"Grade C\")\n",
    "elif Percentage <=40 and Percentage >=33:\n",
    "    print(\"Grade D\")\n",
    "elif Percentage < 33 and Percentage >0:\n",
    "    print(\"Fail\")\n",
    "else:\n",
    "    print(\"Enter correct value !\")\n"
   ]
  },
  {
   "cell_type": "code",
   "execution_count": 4,
   "id": "14ef9091",
   "metadata": {},
   "outputs": [
    {
     "name": "stdout",
     "output_type": "stream",
     "text": [
      "Name of students :  10\n"
     ]
    }
   ],
   "source": [
    "\"\"\"Q9) Write a program which print the length of the list?\"\"\"\n",
    "\n",
    "studentNames = [\"Aena\",\"Moiz\",\"Zain\",\"Laiba\",\"Uswa\",\"Zunaira\",\"Hadi\",\"Taha\",\"Noor\",\"Nouman\"]\n",
    "print(\"Name of students : \",len(studentNames))"
   ]
  },
  {
   "cell_type": "code",
   "execution_count": 7,
   "id": "2e0586e6",
   "metadata": {},
   "outputs": [
    {
     "name": "stdout",
     "output_type": "stream",
     "text": [
      "Enter range of Numeric values: 5\n",
      "For value  1\n",
      "Enter Numeric values: 10\n",
      "For value  2\n",
      "Enter Numeric values: 20\n",
      "For value  3\n",
      "Enter Numeric values: 30\n",
      "For value  4\n",
      "Enter Numeric values: 540\n",
      "For value  5\n",
      "Enter Numeric values: 60\n",
      "Sum of Numeric values:  660\n"
     ]
    }
   ],
   "source": [
    "\"\"\"Q10) 10.Write a Python program to sum all the numeric items in a list?\"\"\"\n",
    "\n",
    "emptyList=[]\n",
    "totalNumericItem=int(input(\"Enter range of Numeric values: \"))\n",
    "for i in range(totalNumericItem):\n",
    "    print(\"For value \",i+1)\n",
    "    numericValues=int(input((\"Enter Numeric values: \")))\n",
    "    emptyList.append(numericValues)\n",
    "print(\"Sum of Numeric values: \",sum(emptyList))\n",
    "\n"
   ]
  },
  {
   "cell_type": "code",
   "execution_count": 4,
   "id": "a3460f2c",
   "metadata": {},
   "outputs": [
    {
     "name": "stdout",
     "output_type": "stream",
     "text": [
      "Enter range of Numeric values: 5\n",
      "For value  1\n",
      "Enter Numeric values: 3\n",
      "For value  2\n",
      "Enter Numeric values: 8\n",
      "For value  3\n",
      "Enter Numeric values: 2\n",
      "For value  4\n",
      "Enter Numeric values: 0\n",
      "For value  5\n",
      "Enter Numeric values: 2\n",
      "Largest value in given list:  [3, 8, 2, 0, 2]\n",
      "Largest value in given list:  8\n"
     ]
    }
   ],
   "source": [
    "\"\"\"Q11) Write a Python program to get the largest number from a numeric list.\"\"\"\n",
    "emptyList=[]\n",
    "totalNumericItem=int(input(\"Enter range of Numeric values: \"))\n",
    "for i in range(totalNumericItem):\n",
    "    print(\"For value \",i+1)\n",
    "    numericValues=int(input((\"Enter Numeric values: \")))\n",
    "    emptyList.append(numericValues)\n",
    "    \n",
    "print(\"Given list: \", emptyList)\n",
    "print(\"Largest value in given list: \",max(emptyList))\n"
   ]
  },
  {
   "cell_type": "code",
   "execution_count": 25,
   "id": "ad3047f9",
   "metadata": {},
   "outputs": [
    {
     "name": "stdout",
     "output_type": "stream",
     "text": [
      "All elements less than 5: \n",
      "1\n",
      "1\n",
      "2\n",
      "3\n",
      "Total elements less than 5:  4\n"
     ]
    }
   ],
   "source": [
    "\"\"\"Q12) Take a list, say for example this one:\n",
    "a = [1, 1, 2, 3, 5, 8, 13, 21, 34, 55, 89]\n",
    "Write a program that prints out all the elements of the list that are less than 5.\"\"\"\n",
    "a = [1,1,2,3,5,8,13,21,34,55,89]\n",
    "print(\"All elements less than 5: \")\n",
    "counter=0\n",
    "for i in a:\n",
    "        if(i<5):\n",
    "            print(i)\n",
    "            counter = counter + 1\n",
    "print(\"Total elements less than 5: \", counter)\n",
    "        \n",
    "     \n",
    "        "
   ]
  },
  {
   "cell_type": "code",
   "execution_count": null,
   "id": "f4257ee5",
   "metadata": {},
   "outputs": [],
   "source": []
  },
  {
   "cell_type": "code",
   "execution_count": null,
   "id": "02f9bf63",
   "metadata": {},
   "outputs": [],
   "source": []
  }
 ],
 "metadata": {
  "kernelspec": {
   "display_name": "Python 3",
   "language": "python",
   "name": "python3"
  },
  "language_info": {
   "codemirror_mode": {
    "name": "ipython",
    "version": 3
   },
   "file_extension": ".py",
   "mimetype": "text/x-python",
   "name": "python",
   "nbconvert_exporter": "python",
   "pygments_lexer": "ipython3",
   "version": "3.8.8"
  }
 },
 "nbformat": 4,
 "nbformat_minor": 5
}
